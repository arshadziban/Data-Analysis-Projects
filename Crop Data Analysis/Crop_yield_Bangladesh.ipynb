{
  "nbformat": 4,
  "nbformat_minor": 0,
  "metadata": {
    "colab": {
      "provenance": [],
      "gpuType": "T4",
      "collapsed_sections": [
        "-uGMlU7MJn5w"
      ]
    },
    "kernelspec": {
      "name": "python3",
      "display_name": "Python 3"
    },
    "language_info": {
      "name": "python"
    },
    "accelerator": "GPU"
  },
  "cells": [
    {
      "cell_type": "code",
      "execution_count": 48,
      "metadata": {
        "colab": {
          "base_uri": "https://localhost:8080/"
        },
        "id": "UTTSw2VEApX9",
        "outputId": "a3059667-0a16-4c4a-8405-f588c422f0fa"
      },
      "outputs": [
        {
          "output_type": "stream",
          "name": "stdout",
          "text": [
            "Drive already mounted at /content/drive; to attempt to forcibly remount, call drive.mount(\"/content/drive\", force_remount=True).\n"
          ]
        }
      ],
      "source": [
        "from google.colab import drive\n",
        "drive.mount('/content/drive')\n"
      ]
    },
    {
      "cell_type": "code",
      "source": [
        "!pip install polars"
      ],
      "metadata": {
        "colab": {
          "base_uri": "https://localhost:8080/"
        },
        "id": "HSjI4J7RA7Ly",
        "outputId": "8dd20d52-b09c-49cd-8025-adbe3961a502"
      },
      "execution_count": 49,
      "outputs": [
        {
          "output_type": "stream",
          "name": "stdout",
          "text": [
            "Requirement already satisfied: polars in /usr/local/lib/python3.10/dist-packages (1.9.0)\n"
          ]
        }
      ]
    },
    {
      "cell_type": "code",
      "source": [
        "import polars as pl"
      ],
      "metadata": {
        "id": "KS6GMRATBt2P"
      },
      "execution_count": 50,
      "outputs": []
    },
    {
      "cell_type": "code",
      "source": [
        "df_rice = pl.read_csv('/content/drive/MyDrive/Crop yield dataset Bangladesh/rice_updated10k.csv')"
      ],
      "metadata": {
        "id": "UOtaEPHYCeed"
      },
      "execution_count": 51,
      "outputs": []
    },
    {
      "cell_type": "code",
      "source": [
        "df_rice.head(6)"
      ],
      "metadata": {
        "colab": {
          "base_uri": "https://localhost:8080/",
          "height": 286
        },
        "id": "i8l68D8-CzNp",
        "outputId": "8adccbf7-c9e0-432e-fdd9-a71cfd5288df"
      },
      "execution_count": 52,
      "outputs": [
        {
          "output_type": "execute_result",
          "data": {
            "text/plain": [
              "shape: (6, 9)\n",
              "┌──────┬─────────┬────────────┬────────────┬───┬───────────────┬────────────┬───────────┬──────────┐\n",
              "│ Crop ┆ Season  ┆ State      ┆ Area       ┆ … ┆ Annual_Rainfa ┆ Fertilizer ┆ Pesticide ┆ Yield    │\n",
              "│ ---  ┆ ---     ┆ ---        ┆ ---        ┆   ┆ ll            ┆ ---        ┆ ---       ┆ ---      │\n",
              "│ str  ┆ str     ┆ str        ┆ f64        ┆   ┆ ---           ┆ f64        ┆ f64       ┆ f64      │\n",
              "│      ┆         ┆            ┆            ┆   ┆ f64           ┆            ┆           ┆          │\n",
              "╞══════╪═════════╪════════════╪════════════╪═══╪═══════════════╪════════════╪═══════════╪══════════╡\n",
              "│ Rice ┆ Autumn  ┆ Dhaka      ┆ 607358.0   ┆ … ┆ 2051.4        ┆ 5.7802e7   ┆ 188280.98 ┆ 0.78087  │\n",
              "│ Rice ┆ Summer  ┆ Dhaka      ┆ 174974.0   ┆ … ┆ 2051.4        ┆ 1.6652e7   ┆ 54241.94  ┆ 1.060435 │\n",
              "│ Rice ┆ Winter  ┆ Dhaka      ┆ 1.743321e6 ┆ … ┆ 2051.4        ┆ 1.6591e8   ┆ 540429.51 ┆ 0.941304 │\n",
              "│ Rice ┆ Monsoon ┆ Chittagong ┆ 1.03153e6  ┆ … ┆ 1266.7        ┆ 9.8171e7   ┆ 319774.3  ┆ 2.2335   │\n",
              "│ Rice ┆ Winter  ┆ Chittagong ┆ 53889.0    ┆ … ┆ 1266.7        ┆ 5.1286e6   ┆ 16705.59  ┆ 2.073846 │\n",
              "│ Rice ┆ Summer  ┆ Chittagong ┆ 268044.0   ┆ … ┆ 1266.7        ┆ 2.5510e7   ┆ 83093.64  ┆ 2.829444 │\n",
              "└──────┴─────────┴────────────┴────────────┴───┴───────────────┴────────────┴───────────┴──────────┘"
            ],
            "text/html": [
              "<div><style>\n",
              ".dataframe > thead > tr,\n",
              ".dataframe > tbody > tr {\n",
              "  text-align: right;\n",
              "  white-space: pre-wrap;\n",
              "}\n",
              "</style>\n",
              "<small>shape: (6, 9)</small><table border=\"1\" class=\"dataframe\"><thead><tr><th>Crop</th><th>Season</th><th>State</th><th>Area</th><th>Production</th><th>Annual_Rainfall</th><th>Fertilizer</th><th>Pesticide</th><th>Yield</th></tr><tr><td>str</td><td>str</td><td>str</td><td>f64</td><td>i64</td><td>f64</td><td>f64</td><td>f64</td><td>f64</td></tr></thead><tbody><tr><td>&quot;Rice&quot;</td><td>&quot;Autumn&quot;</td><td>&quot;Dhaka&quot;</td><td>607358.0</td><td>398311</td><td>2051.4</td><td>5.7802e7</td><td>188280.98</td><td>0.78087</td></tr><tr><td>&quot;Rice&quot;</td><td>&quot;Summer&quot;</td><td>&quot;Dhaka&quot;</td><td>174974.0</td><td>209623</td><td>2051.4</td><td>1.6652e7</td><td>54241.94</td><td>1.060435</td></tr><tr><td>&quot;Rice&quot;</td><td>&quot;Winter&quot;</td><td>&quot;Dhaka&quot;</td><td>1.743321e6</td><td>1647296</td><td>2051.4</td><td>1.6591e8</td><td>540429.51</td><td>0.941304</td></tr><tr><td>&quot;Rice&quot;</td><td>&quot;Monsoon&quot;</td><td>&quot;Chittagong&quot;</td><td>1.03153e6</td><td>2340493</td><td>1266.7</td><td>9.8171e7</td><td>319774.3</td><td>2.2335</td></tr><tr><td>&quot;Rice&quot;</td><td>&quot;Winter&quot;</td><td>&quot;Chittagong&quot;</td><td>53889.0</td><td>109350</td><td>1266.7</td><td>5.1286e6</td><td>16705.59</td><td>2.073846</td></tr><tr><td>&quot;Rice&quot;</td><td>&quot;Summer&quot;</td><td>&quot;Chittagong&quot;</td><td>268044.0</td><td>762759</td><td>1266.7</td><td>2.5510e7</td><td>83093.64</td><td>2.829444</td></tr></tbody></table></div>"
            ]
          },
          "metadata": {},
          "execution_count": 52
        }
      ]
    },
    {
      "cell_type": "markdown",
      "source": [
        "#What are the average, minimum, and maximum crop yields in different regions of Bangladesh?\n"
      ],
      "metadata": {
        "id": "eES-GIZEElix"
      }
    },
    {
      "cell_type": "code",
      "source": [
        "yield_stats = df_rice.group_by(\"State\").agg(\n",
        "[pl.col(\"Yield\").mean().alias(\"average_yield\"), pl.col(\"Yield\").min().alias(\"min_yield\"), pl.col(\"Yield\").max().alias(\"max_yield\"),])"
      ],
      "metadata": {
        "id": "QD3FK41vCz9Q"
      },
      "execution_count": 53,
      "outputs": []
    },
    {
      "cell_type": "code",
      "source": [
        "yield_stats"
      ],
      "metadata": {
        "colab": {
          "base_uri": "https://localhost:8080/",
          "height": 443
        },
        "id": "Hcw1Sl_TDKBE",
        "outputId": "35216991-ce37-42f5-c654-9bd444a8117e"
      },
      "execution_count": 54,
      "outputs": [
        {
          "output_type": "execute_result",
          "data": {
            "text/plain": [
              "shape: (30, 4)\n",
              "┌──────────────┬───────────────┬───────────┬───────────┐\n",
              "│ State        ┆ average_yield ┆ min_yield ┆ max_yield │\n",
              "│ ---          ┆ ---           ┆ ---       ┆ ---       │\n",
              "│ str          ┆ f64           ┆ f64       ┆ f64       │\n",
              "╞══════════════╪═══════════════╪═══════════╪═══════════╡\n",
              "│ Tangail      ┆ 2.018331      ┆ 0.8903125 ┆ 8.778276  │\n",
              "│ Gazipur      ┆ 1.735485      ┆ 0.077333  ┆ 3.530964  │\n",
              "│ Bogra        ┆ 1.380338      ┆ 0.574588  ┆ 2.762088  │\n",
              "│ Dhaka        ┆ 1.707097      ┆ 0.655809  ┆ 2.981114  │\n",
              "│ Cox's Bazar  ┆ 3.287338      ┆ 2.672333  ┆ 3.801488  │\n",
              "│ …            ┆ …             ┆ …         ┆ …         │\n",
              "│ Dinajpur     ┆ 2.284284      ┆ 0.80994   ┆ 4.635593  │\n",
              "│ Brahmanbaria ┆ 1.533404      ┆ 1.028581  ┆ 1.750909  │\n",
              "│ Rangpur      ┆ 2.339187      ┆ 1.876667  ┆ 2.68254   │\n",
              "│ Satkhira     ┆ 2.074271      ┆ 1.25      ┆ 2.830688  │\n",
              "│ Rajshahi     ┆ 2.43593       ┆ 1.15609   ┆ 4.635918  │\n",
              "└──────────────┴───────────────┴───────────┴───────────┘"
            ],
            "text/html": [
              "<div><style>\n",
              ".dataframe > thead > tr,\n",
              ".dataframe > tbody > tr {\n",
              "  text-align: right;\n",
              "  white-space: pre-wrap;\n",
              "}\n",
              "</style>\n",
              "<small>shape: (30, 4)</small><table border=\"1\" class=\"dataframe\"><thead><tr><th>State</th><th>average_yield</th><th>min_yield</th><th>max_yield</th></tr><tr><td>str</td><td>f64</td><td>f64</td><td>f64</td></tr></thead><tbody><tr><td>&quot;Tangail&quot;</td><td>2.018331</td><td>0.8903125</td><td>8.778276</td></tr><tr><td>&quot;Gazipur&quot;</td><td>1.735485</td><td>0.077333</td><td>3.530964</td></tr><tr><td>&quot;Bogra&quot;</td><td>1.380338</td><td>0.574588</td><td>2.762088</td></tr><tr><td>&quot;Dhaka&quot;</td><td>1.707097</td><td>0.655809</td><td>2.981114</td></tr><tr><td>&quot;Cox&#x27;s Bazar&quot;</td><td>3.287338</td><td>2.672333</td><td>3.801488</td></tr><tr><td>&hellip;</td><td>&hellip;</td><td>&hellip;</td><td>&hellip;</td></tr><tr><td>&quot;Dinajpur&quot;</td><td>2.284284</td><td>0.80994</td><td>4.635593</td></tr><tr><td>&quot;Brahmanbaria&quot;</td><td>1.533404</td><td>1.028581</td><td>1.750909</td></tr><tr><td>&quot;Rangpur&quot;</td><td>2.339187</td><td>1.876667</td><td>2.68254</td></tr><tr><td>&quot;Satkhira&quot;</td><td>2.074271</td><td>1.25</td><td>2.830688</td></tr><tr><td>&quot;Rajshahi&quot;</td><td>2.43593</td><td>1.15609</td><td>4.635918</td></tr></tbody></table></div>"
            ]
          },
          "metadata": {},
          "execution_count": 54
        }
      ]
    },
    {
      "cell_type": "markdown",
      "source": [
        "#How does crop yield vary across different districts or regions?"
      ],
      "metadata": {
        "id": "a-c6TnfpHTPm"
      }
    },
    {
      "cell_type": "code",
      "source": [
        "yield_variation = df_rice.group_by(\"State\").agg(\n",
        "[pl.col(\"Yield\").mean().alias(\"average_yield\"), pl.col(\"Yield\").std().alias(\"yield_std_dev\"),  # Standard deviation\n",
        "pl.col(\"Yield\").min().alias(\"min_yield\"),\n",
        "pl.col(\"Yield\").max().alias(\"max_yield\"),\n",
        "pl.count().alias(\"num_records\")]\n",
        ").sort(\"average_yield\", descending=True)\n",
        "\n",
        "yield_variation"
      ],
      "metadata": {
        "colab": {
          "base_uri": "https://localhost:8080/",
          "height": 479
        },
        "id": "ESZEBTZPErMI",
        "outputId": "eb73ed40-30e2-470c-f3ba-3d7c9b139de2"
      },
      "execution_count": 55,
      "outputs": [
        {
          "output_type": "stream",
          "name": "stderr",
          "text": [
            "<ipython-input-55-e175fb3097b1>:5: DeprecationWarning: `pl.count()` is deprecated. Please use `pl.len()` instead.\n",
            "  pl.count().alias(\"num_records\")]\n"
          ]
        },
        {
          "output_type": "execute_result",
          "data": {
            "text/plain": [
              "shape: (30, 6)\n",
              "┌──────────────┬───────────────┬───────────────┬───────────┬───────────┬─────────────┐\n",
              "│ State        ┆ average_yield ┆ yield_std_dev ┆ min_yield ┆ max_yield ┆ num_records │\n",
              "│ ---          ┆ ---           ┆ ---           ┆ ---       ┆ ---       ┆ ---         │\n",
              "│ str          ┆ f64           ┆ f64           ┆ f64       ┆ f64       ┆ u32         │\n",
              "╞══════════════╪═══════════════╪═══════════════╪═══════════╪═══════════╪═════════════╡\n",
              "│ Narsingdi    ┆ 3.873877      ┆ 0.299068      ┆ 3.099412  ┆ 4.366069  ┆ 167         │\n",
              "│ Narayanganj  ┆ 3.477518      ┆ 0.699728      ┆ 2.307503  ┆ 4.730323  ┆ 256         │\n",
              "│ Cox's Bazar  ┆ 3.287338      ┆ 0.289453      ┆ 2.672333  ┆ 3.801488  ┆ 113         │\n",
              "│ Jessore      ┆ 3.211639      ┆ 0.6374        ┆ 1.991739  ┆ 4.747887  ┆ 406         │\n",
              "│ Faridpur     ┆ 2.969867      ┆ 0.339813      ┆ 2.235     ┆ 3.431545  ┆ 131         │\n",
              "│ …            ┆ …             ┆ …             ┆ …         ┆ …         ┆ …           │\n",
              "│ Brahmanbaria ┆ 1.533404      ┆ 0.159284      ┆ 1.028581  ┆ 1.750909  ┆ 198         │\n",
              "│ Sirajganj    ┆ 1.434073      ┆ 0.339699      ┆ 0.628503  ┆ 2.169793  ┆ 173         │\n",
              "│ Bogra        ┆ 1.380338      ┆ 0.590106      ┆ 0.574588  ┆ 2.762088  ┆ 165         │\n",
              "│ Kaptai       ┆ 1.295043      ┆ 0.24155       ┆ 0.965385  ┆ 2.0875    ┆ 159         │\n",
              "│ Tongi        ┆ 1.077999      ┆ 0.488325      ┆ 0.515217  ┆ 2.663333  ┆ 299         │\n",
              "└──────────────┴───────────────┴───────────────┴───────────┴───────────┴─────────────┘"
            ],
            "text/html": [
              "<div><style>\n",
              ".dataframe > thead > tr,\n",
              ".dataframe > tbody > tr {\n",
              "  text-align: right;\n",
              "  white-space: pre-wrap;\n",
              "}\n",
              "</style>\n",
              "<small>shape: (30, 6)</small><table border=\"1\" class=\"dataframe\"><thead><tr><th>State</th><th>average_yield</th><th>yield_std_dev</th><th>min_yield</th><th>max_yield</th><th>num_records</th></tr><tr><td>str</td><td>f64</td><td>f64</td><td>f64</td><td>f64</td><td>u32</td></tr></thead><tbody><tr><td>&quot;Narsingdi&quot;</td><td>3.873877</td><td>0.299068</td><td>3.099412</td><td>4.366069</td><td>167</td></tr><tr><td>&quot;Narayanganj&quot;</td><td>3.477518</td><td>0.699728</td><td>2.307503</td><td>4.730323</td><td>256</td></tr><tr><td>&quot;Cox&#x27;s Bazar&quot;</td><td>3.287338</td><td>0.289453</td><td>2.672333</td><td>3.801488</td><td>113</td></tr><tr><td>&quot;Jessore&quot;</td><td>3.211639</td><td>0.6374</td><td>1.991739</td><td>4.747887</td><td>406</td></tr><tr><td>&quot;Faridpur&quot;</td><td>2.969867</td><td>0.339813</td><td>2.235</td><td>3.431545</td><td>131</td></tr><tr><td>&hellip;</td><td>&hellip;</td><td>&hellip;</td><td>&hellip;</td><td>&hellip;</td><td>&hellip;</td></tr><tr><td>&quot;Brahmanbaria&quot;</td><td>1.533404</td><td>0.159284</td><td>1.028581</td><td>1.750909</td><td>198</td></tr><tr><td>&quot;Sirajganj&quot;</td><td>1.434073</td><td>0.339699</td><td>0.628503</td><td>2.169793</td><td>173</td></tr><tr><td>&quot;Bogra&quot;</td><td>1.380338</td><td>0.590106</td><td>0.574588</td><td>2.762088</td><td>165</td></tr><tr><td>&quot;Kaptai&quot;</td><td>1.295043</td><td>0.24155</td><td>0.965385</td><td>2.0875</td><td>159</td></tr><tr><td>&quot;Tongi&quot;</td><td>1.077999</td><td>0.488325</td><td>0.515217</td><td>2.663333</td><td>299</td></tr></tbody></table></div>"
            ]
          },
          "metadata": {},
          "execution_count": 55
        }
      ]
    },
    {
      "cell_type": "markdown",
      "source": [
        "#What is the distribution of rainfallin the dataset?"
      ],
      "metadata": {
        "id": "-oQjZ0j9H_41"
      }
    },
    {
      "cell_type": "code",
      "source": [
        "rainfall_stats = df_rice.select(\"Annual_Rainfall\").describe()"
      ],
      "metadata": {
        "id": "TFn2rR3VI8gw"
      },
      "execution_count": 56,
      "outputs": []
    },
    {
      "cell_type": "code",
      "source": [
        "rainfall_stats"
      ],
      "metadata": {
        "colab": {
          "base_uri": "https://localhost:8080/",
          "height": 380
        },
        "id": "83N71sZVI-G4",
        "outputId": "5706b376-b010-4f00-f201-1aa3f1f773fb"
      },
      "execution_count": 57,
      "outputs": [
        {
          "output_type": "execute_result",
          "data": {
            "text/plain": [
              "shape: (9, 2)\n",
              "┌────────────┬─────────────────┐\n",
              "│ statistic  ┆ Annual_Rainfall │\n",
              "│ ---        ┆ ---             │\n",
              "│ str        ┆ f64             │\n",
              "╞════════════╪═════════════════╡\n",
              "│ count      ┆ 10000.0         │\n",
              "│ null_count ┆ 0.0             │\n",
              "│ mean       ┆ 1218.394194     │\n",
              "│ std        ┆ 991.990776      │\n",
              "│ min        ┆ -1182.0         │\n",
              "│ 25%        ┆ 551.7           │\n",
              "│ 50%        ┆ 994.7           │\n",
              "│ 75%        ┆ 1652.8          │\n",
              "│ max        ┆ 6552.7          │\n",
              "└────────────┴─────────────────┘"
            ],
            "text/html": [
              "<div><style>\n",
              ".dataframe > thead > tr,\n",
              ".dataframe > tbody > tr {\n",
              "  text-align: right;\n",
              "  white-space: pre-wrap;\n",
              "}\n",
              "</style>\n",
              "<small>shape: (9, 2)</small><table border=\"1\" class=\"dataframe\"><thead><tr><th>statistic</th><th>Annual_Rainfall</th></tr><tr><td>str</td><td>f64</td></tr></thead><tbody><tr><td>&quot;count&quot;</td><td>10000.0</td></tr><tr><td>&quot;null_count&quot;</td><td>0.0</td></tr><tr><td>&quot;mean&quot;</td><td>1218.394194</td></tr><tr><td>&quot;std&quot;</td><td>991.990776</td></tr><tr><td>&quot;min&quot;</td><td>-1182.0</td></tr><tr><td>&quot;25%&quot;</td><td>551.7</td></tr><tr><td>&quot;50%&quot;</td><td>994.7</td></tr><tr><td>&quot;75%&quot;</td><td>1652.8</td></tr><tr><td>&quot;max&quot;</td><td>6552.7</td></tr></tbody></table></div>"
            ]
          },
          "metadata": {},
          "execution_count": 57
        }
      ]
    },
    {
      "cell_type": "markdown",
      "source": [
        "#Which region produces the highest yield for specific crops?"
      ],
      "metadata": {
        "id": "-uGMlU7MJn5w"
      }
    },
    {
      "cell_type": "code",
      "source": [
        "highest_yield_regions = df_rice.group_by([\"State\", \"Crop\"]).agg(pl.col(\"Yield\").max().alias(\"max_yield\")).sort(\"max_yield\", descending=True)\n",
        "highest_yield_regions"
      ],
      "metadata": {
        "colab": {
          "base_uri": "https://localhost:8080/",
          "height": 0
        },
        "id": "FSbOKLyCI3lC",
        "outputId": "da5bff4c-bb2f-4c22-e93f-28a287fcd85d"
      },
      "execution_count": 58,
      "outputs": [
        {
          "output_type": "execute_result",
          "data": {
            "text/plain": [
              "shape: (30, 3)\n",
              "┌──────────────┬──────┬───────────┐\n",
              "│ State        ┆ Crop ┆ max_yield │\n",
              "│ ---          ┆ ---  ┆ ---       │\n",
              "│ str          ┆ str  ┆ f64       │\n",
              "╞══════════════╪══════╪═══════════╡\n",
              "│ Tangail      ┆ Rice ┆ 8.778276  │\n",
              "│ Feni         ┆ Rice ┆ 5.3425    │\n",
              "│ Natore       ┆ Rice ┆ 4.753762  │\n",
              "│ Jessore      ┆ Rice ┆ 4.747887  │\n",
              "│ Narayanganj  ┆ Rice ┆ 4.730323  │\n",
              "│ …            ┆ …    ┆ …         │\n",
              "│ Tongi        ┆ Rice ┆ 2.663333  │\n",
              "│ Rangamati    ┆ Rice ┆ 2.426165  │\n",
              "│ Sirajganj    ┆ Rice ┆ 2.169793  │\n",
              "│ Kaptai       ┆ Rice ┆ 2.0875    │\n",
              "│ Brahmanbaria ┆ Rice ┆ 1.750909  │\n",
              "└──────────────┴──────┴───────────┘"
            ],
            "text/html": [
              "<div><style>\n",
              ".dataframe > thead > tr,\n",
              ".dataframe > tbody > tr {\n",
              "  text-align: right;\n",
              "  white-space: pre-wrap;\n",
              "}\n",
              "</style>\n",
              "<small>shape: (30, 3)</small><table border=\"1\" class=\"dataframe\"><thead><tr><th>State</th><th>Crop</th><th>max_yield</th></tr><tr><td>str</td><td>str</td><td>f64</td></tr></thead><tbody><tr><td>&quot;Tangail&quot;</td><td>&quot;Rice&quot;</td><td>8.778276</td></tr><tr><td>&quot;Feni&quot;</td><td>&quot;Rice&quot;</td><td>5.3425</td></tr><tr><td>&quot;Natore&quot;</td><td>&quot;Rice&quot;</td><td>4.753762</td></tr><tr><td>&quot;Jessore&quot;</td><td>&quot;Rice&quot;</td><td>4.747887</td></tr><tr><td>&quot;Narayanganj&quot;</td><td>&quot;Rice&quot;</td><td>4.730323</td></tr><tr><td>&hellip;</td><td>&hellip;</td><td>&hellip;</td></tr><tr><td>&quot;Tongi&quot;</td><td>&quot;Rice&quot;</td><td>2.663333</td></tr><tr><td>&quot;Rangamati&quot;</td><td>&quot;Rice&quot;</td><td>2.426165</td></tr><tr><td>&quot;Sirajganj&quot;</td><td>&quot;Rice&quot;</td><td>2.169793</td></tr><tr><td>&quot;Kaptai&quot;</td><td>&quot;Rice&quot;</td><td>2.0875</td></tr><tr><td>&quot;Brahmanbaria&quot;</td><td>&quot;Rice&quot;</td><td>1.750909</td></tr></tbody></table></div>"
            ]
          },
          "metadata": {},
          "execution_count": 58
        }
      ]
    },
    {
      "cell_type": "markdown",
      "source": [
        "# Which factors have the strongest correlation with Yield"
      ],
      "metadata": {
        "id": "PohoxQW1rFi0"
      }
    },
    {
      "cell_type": "code",
      "source": [
        "# Calculate the correlation matrix\n",
        "correlation_matrix = df_rice.select(pl.col(\"Yield\"),pl.col(\"Fertilizer\"),pl.col(\"Pesticide\"),pl.col(\"Annual_Rainfall\")).corr()\n",
        "correlation_matrix"
      ],
      "metadata": {
        "colab": {
          "base_uri": "https://localhost:8080/",
          "height": 223
        },
        "id": "nVRAXiXMrZkm",
        "outputId": "b06a559f-f0de-44c9-d277-34ff037e1e05"
      },
      "execution_count": 59,
      "outputs": [
        {
          "output_type": "execute_result",
          "data": {
            "text/plain": [
              "shape: (4, 4)\n",
              "┌───────────┬────────────┬───────────┬─────────────────┐\n",
              "│ Yield     ┆ Fertilizer ┆ Pesticide ┆ Annual_Rainfall │\n",
              "│ ---       ┆ ---        ┆ ---       ┆ ---             │\n",
              "│ f64       ┆ f64        ┆ f64       ┆ f64             │\n",
              "╞═══════════╪════════════╪═══════════╪═════════════════╡\n",
              "│ 1.0       ┆ -0.001169  ┆ -0.007119 ┆ -0.035923       │\n",
              "│ -0.001169 ┆ 1.0        ┆ 0.951719  ┆ -0.277467       │\n",
              "│ -0.007119 ┆ 0.951719   ┆ 1.0       ┆ -0.265232       │\n",
              "│ -0.035923 ┆ -0.277467  ┆ -0.265232 ┆ 1.0             │\n",
              "└───────────┴────────────┴───────────┴─────────────────┘"
            ],
            "text/html": [
              "<div><style>\n",
              ".dataframe > thead > tr,\n",
              ".dataframe > tbody > tr {\n",
              "  text-align: right;\n",
              "  white-space: pre-wrap;\n",
              "}\n",
              "</style>\n",
              "<small>shape: (4, 4)</small><table border=\"1\" class=\"dataframe\"><thead><tr><th>Yield</th><th>Fertilizer</th><th>Pesticide</th><th>Annual_Rainfall</th></tr><tr><td>f64</td><td>f64</td><td>f64</td><td>f64</td></tr></thead><tbody><tr><td>1.0</td><td>-0.001169</td><td>-0.007119</td><td>-0.035923</td></tr><tr><td>-0.001169</td><td>1.0</td><td>0.951719</td><td>-0.277467</td></tr><tr><td>-0.007119</td><td>0.951719</td><td>1.0</td><td>-0.265232</td></tr><tr><td>-0.035923</td><td>-0.277467</td><td>-0.265232</td><td>1.0</td></tr></tbody></table></div>"
            ]
          },
          "metadata": {},
          "execution_count": 59
        }
      ]
    },
    {
      "cell_type": "markdown",
      "source": [
        "#How does Yield vary with Annual_Rainfall and Fertilizer usage?"
      ],
      "metadata": {
        "id": "VZCTVRtjsJb8"
      }
    },
    {
      "cell_type": "code",
      "source": [
        "correlation_yield_rainfall = df_rice.select(pl.col(\"Yield\"), pl.col(\"Annual_Rainfall\")).corr()\n",
        "\n",
        "correlation_yield_rainfall"
      ],
      "metadata": {
        "colab": {
          "base_uri": "https://localhost:8080/",
          "height": 161
        },
        "id": "vNjVrbgnr6jn",
        "outputId": "e744cc15-4bef-43fc-9078-a990ea816561"
      },
      "execution_count": 60,
      "outputs": [
        {
          "output_type": "execute_result",
          "data": {
            "text/plain": [
              "shape: (2, 2)\n",
              "┌───────────┬─────────────────┐\n",
              "│ Yield     ┆ Annual_Rainfall │\n",
              "│ ---       ┆ ---             │\n",
              "│ f64       ┆ f64             │\n",
              "╞═══════════╪═════════════════╡\n",
              "│ 1.0       ┆ -0.035923       │\n",
              "│ -0.035923 ┆ 1.0             │\n",
              "└───────────┴─────────────────┘"
            ],
            "text/html": [
              "<div><style>\n",
              ".dataframe > thead > tr,\n",
              ".dataframe > tbody > tr {\n",
              "  text-align: right;\n",
              "  white-space: pre-wrap;\n",
              "}\n",
              "</style>\n",
              "<small>shape: (2, 2)</small><table border=\"1\" class=\"dataframe\"><thead><tr><th>Yield</th><th>Annual_Rainfall</th></tr><tr><td>f64</td><td>f64</td></tr></thead><tbody><tr><td>1.0</td><td>-0.035923</td></tr><tr><td>-0.035923</td><td>1.0</td></tr></tbody></table></div>"
            ]
          },
          "metadata": {},
          "execution_count": 60
        }
      ]
    },
    {
      "cell_type": "code",
      "source": [
        "correlation_yield_fertilizer = df_rice.select(pl.col(\"Yield\"), pl.col(\"Fertilizer\")).corr()\n",
        "correlation_yield_fertilizer"
      ],
      "metadata": {
        "colab": {
          "base_uri": "https://localhost:8080/",
          "height": 161
        },
        "id": "QedAENwCsWqx",
        "outputId": "c35ee1ab-cbc9-440e-84a5-4fac5909e9e9"
      },
      "execution_count": 61,
      "outputs": [
        {
          "output_type": "execute_result",
          "data": {
            "text/plain": [
              "shape: (2, 2)\n",
              "┌───────────┬────────────┐\n",
              "│ Yield     ┆ Fertilizer │\n",
              "│ ---       ┆ ---        │\n",
              "│ f64       ┆ f64        │\n",
              "╞═══════════╪════════════╡\n",
              "│ 1.0       ┆ -0.001169  │\n",
              "│ -0.001169 ┆ 1.0        │\n",
              "└───────────┴────────────┘"
            ],
            "text/html": [
              "<div><style>\n",
              ".dataframe > thead > tr,\n",
              ".dataframe > tbody > tr {\n",
              "  text-align: right;\n",
              "  white-space: pre-wrap;\n",
              "}\n",
              "</style>\n",
              "<small>shape: (2, 2)</small><table border=\"1\" class=\"dataframe\"><thead><tr><th>Yield</th><th>Fertilizer</th></tr><tr><td>f64</td><td>f64</td></tr></thead><tbody><tr><td>1.0</td><td>-0.001169</td></tr><tr><td>-0.001169</td><td>1.0</td></tr></tbody></table></div>"
            ]
          },
          "metadata": {},
          "execution_count": 61
        }
      ]
    },
    {
      "cell_type": "code",
      "source": [
        "import matplotlib.pyplot as plt"
      ],
      "metadata": {
        "id": "c_59YCRGtMLm"
      },
      "execution_count": 62,
      "outputs": []
    },
    {
      "cell_type": "code",
      "source": [
        "plt.figure(figsize=(10, 5))\n",
        "\n",
        "# Scatter plot for Yield vs. Annual Rainfall\n",
        "plt.subplot(1, 2, 1)\n",
        "plt.scatter(df_rice[\"Annual_Rainfall\"], df_rice[\"Yield\"])\n",
        "plt.xlabel(\"Annual Rainfall\")\n",
        "plt.ylabel(\"Yield\")\n",
        "plt.title(\"Yield vs. Annual Rainfall\")\n",
        "\n",
        "\n",
        "# Scatter plot for Yield vs. Fertilizer\n",
        "plt.subplot(1, 2, 2)\n",
        "plt.scatter(df_rice[\"Fertilizer\"], df_rice[\"Yield\"])\n",
        "plt.xlabel(\"Fertilizer\")\n",
        "plt.ylabel(\"Yield\")\n",
        "plt.title(\"Yield vs. Fertilizer\")\n",
        "\n",
        "plt.tight_layout()\n",
        "plt.show()"
      ],
      "metadata": {
        "colab": {
          "base_uri": "https://localhost:8080/",
          "height": 507
        },
        "id": "I30P_kHftWGr",
        "outputId": "175eb53c-40d4-4f65-e147-ea6fbe5883db"
      },
      "execution_count": 63,
      "outputs": [
        {
          "output_type": "display_data",
          "data": {
            "text/plain": [
              "<Figure size 1000x500 with 2 Axes>"
            ],
            "image/png": "[encoded data removed]"
          },
          "metadata": {}
        }
      ]
    }
  ]
}